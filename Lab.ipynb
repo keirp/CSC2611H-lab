{
 "cells": [
  {
   "cell_type": "markdown",
   "metadata": {},
   "source": [
    "# Pre-Lab Exercise"
   ]
  },
  {
   "cell_type": "markdown",
   "metadata": {},
   "source": [
    "## Step 2"
   ]
  },
  {
   "cell_type": "code",
   "execution_count": 1,
   "metadata": {},
   "outputs": [
    {
     "name": "stderr",
     "output_type": "stream",
     "text": [
      "[nltk_data] Downloading package brown to /Users/keirp/nltk_data...\n",
      "[nltk_data]   Package brown is already up-to-date!\n",
      "[nltk_data] Downloading package stopwords to /Users/keirp/nltk_data...\n",
      "[nltk_data]   Package stopwords is already up-to-date!\n"
     ]
    },
    {
     "data": {
      "text/plain": [
       "True"
      ]
     },
     "execution_count": 1,
     "metadata": {},
     "output_type": "execute_result"
    }
   ],
   "source": [
    "import nltk\n",
    "nltk.download('brown')\n",
    "nltk.download('stopwords')"
   ]
  },
  {
   "cell_type": "code",
   "execution_count": 2,
   "metadata": {},
   "outputs": [],
   "source": [
    "from nltk.corpus import brown\n",
    "W = nltk.FreqDist([w.lower() for w in brown.words() if any(c.isalpha() for c in w)]).most_common(5000)\n",
    "W = [w[0] for w in W]"
   ]
  },
  {
   "cell_type": "code",
   "execution_count": 3,
   "metadata": {},
   "outputs": [],
   "source": [
    "word_list = [('cord', 'smile', 0.02),\n",
    "             ('rooster', 'voyage', 0.04),\n",
    "             ('noon', 'string', 0.04), \n",
    "             ('fruit', 'furnace', 0.05), \n",
    "             ('autograph', 'shore', 0.06), \n",
    "             ('automobile', 'wizard', 0.11),\n",
    "             ('mound', 'stove', 0.14), \n",
    "             ('grin', 'implement', 0.18), \n",
    "             ('asylum', 'fruit', 0.19),\n",
    "             ('asylum','monk', 0.39), \n",
    "             ('graveyard', 'madhouse', 0.42),\n",
    "             ('glass', 'magician', 0.44),\n",
    "             ('boy', 'rooster', 0.44),\n",
    "             ('cushion', 'jewel', 0.45),\n",
    "             ('monk', 'slave', 0.57),\n",
    "             ('asylum', 'cemetery', 0.79),\n",
    "             ('coast', 'forest', 0.85),\n",
    "             ('grin', 'lad', 0.88),\n",
    "             ('shore', 'woodland', 0.90),\n",
    "             ('monk', 'oracle', 0.91),\n",
    "             ('boy', 'sage', 0.96),\n",
    "             ('automobile', 'cushion', 0.97),\n",
    "             ('mound', 'shore', 0.97),\n",
    "             ('lad', 'wizard', 0.99),\n",
    "             ('forest', 'graveyard', 1.00),\n",
    "             ('food', 'rooster', 1.09),\n",
    "             ('cemetery', 'woodland', 1.18),\n",
    "             ('shore', 'voyage', 1.22),\n",
    "             ('bird', 'woodland', 1.24),\n",
    "             ('coast', 'hill', 1.26),\n",
    "             ('furnace', 'implement', 1.37),\n",
    "             ('crane', 'rooster', 1.41),\n",
    "             ('hill', 'woodland', 1.48),\n",
    "             ('car', 'journey', 1.55),\n",
    "             ('cemetery', 'mound', 1.69),\n",
    "             ('glass', 'jewel', 1.78),\n",
    "             ('magician', 'oracle', 1.82),\n",
    "             ('crane', 'implement', 2.37),\n",
    "             ('brother', 'lad', 2.41),\n",
    "             ('sage', 'wizard', 2.46),\n",
    "             ('oracle', 'sage', 2.61),\n",
    "             ('bird', 'crane', 2.63),\n",
    "             ('bird', 'cock', 2.63),\n",
    "             ('food', 'fruit', 2.69),\n",
    "             ('brother', 'monk', 2.74),\n",
    "             ('asylum', 'madhouse', 3.04),\n",
    "             ('furnace', 'stove', 3.11),\n",
    "             ('magician', 'wizard', 3.21),\n",
    "             ('hill', 'mound', 3.29),\n",
    "             ('cord', 'string', 3.41),\n",
    "             ('glass', 'tumbler', 3.45),\n",
    "             ('grin', 'smile', 3.46),\n",
    "             ('serf', 'slave', 3.46),\n",
    "             ('journey', 'voyage', 3.58),\n",
    "             ('autograph', 'signature', 3.59),\n",
    "             ('coast', 'shore', 3.60),\n",
    "             ('forest', 'woodland', 3.65),\n",
    "             ('implement', 'tool', 3.66),\n",
    "             ('cock', 'rooster', 3.68),\n",
    "             ('boy', 'lad', 3.82),\n",
    "             ('cushion', 'pillow', 3.84),\n",
    "             ('cemetery', 'graveyard', 3.88),\n",
    "             ('automobile', 'car', 3.92),\n",
    "             ('midday', 'noon', 3.94),\n",
    "             ('gem', 'jewel', 3.94)]"
   ]
  },
  {
   "cell_type": "code",
   "execution_count": 4,
   "metadata": {},
   "outputs": [
    {
     "name": "stdout",
     "output_type": "stream",
     "text": [
      "5 most common words: ['the', 'of', 'and', 'to', 'a']\n",
      "5 least common words: ['cottage', 'lid', 'packed', 'lacked', 'condemned']\n"
     ]
    }
   ],
   "source": [
    "print(f'5 most common words: {W[:5]}')\n",
    "print(f'5 least common words: {W[-5:]}')"
   ]
  },
  {
   "cell_type": "code",
   "execution_count": 5,
   "metadata": {},
   "outputs": [
    {
     "name": "stdout",
     "output_type": "stream",
     "text": [
      "Added ['cord', 'rooster', 'voyage', 'furnace', 'autograph', 'wizard', 'mound', 'stove', 'grin', 'implement', 'asylum', 'monk', 'graveyard', 'madhouse', 'magician', 'cushion', 'jewel', 'cemetery', 'lad', 'woodland', 'oracle', 'sage', 'crane', 'cock', 'tumbler', 'serf', 'signature', 'pillow', 'midday', 'gem'] to W.\n"
     ]
    }
   ],
   "source": [
    "added = []\n",
    "for pair in word_list:\n",
    "    w0, w1 = pair[0], pair[1]\n",
    "    if w0 not in W:\n",
    "        W.append(w0)\n",
    "        added.append(w0)\n",
    "    if w1 not in W:\n",
    "        W.append(w1)\n",
    "        added.append(w1)\n",
    "print(f'Added {added} to W.')"
   ]
  },
  {
   "cell_type": "code",
   "execution_count": 6,
   "metadata": {},
   "outputs": [
    {
     "name": "stdout",
     "output_type": "stream",
     "text": [
      "W has a size of 5030\n"
     ]
    }
   ],
   "source": [
    "print(f'W has a size of {len(W)}')"
   ]
  },
  {
   "cell_type": "markdown",
   "metadata": {},
   "source": [
    "## Step 3"
   ]
  },
  {
   "cell_type": "code",
   "execution_count": 7,
   "metadata": {},
   "outputs": [],
   "source": [
    "from scipy.sparse import lil_matrix\n",
    "from tqdm.notebook import tqdm"
   ]
  },
  {
   "cell_type": "code",
   "execution_count": 12,
   "metadata": {
    "scrolled": true
   },
   "outputs": [
    {
     "data": {
      "application/vnd.jupyter.widget-view+json": {
       "model_id": "116d6b87fa014d1f9b28d8d7ee245953",
       "version_major": 2,
       "version_minor": 0
      },
      "text/plain": [
       "0it [00:00, ?it/s]"
      ]
     },
     "metadata": {},
     "output_type": "display_data"
    },
    {
     "ename": "KeyboardInterrupt",
     "evalue": "",
     "output_type": "error",
     "traceback": [
      "\u001b[0;31m---------------------------------------------------------------------------\u001b[0m",
      "\u001b[0;31mKeyboardInterrupt\u001b[0m                         Traceback (most recent call last)",
      "Input \u001b[0;32mIn [12]\u001b[0m, in \u001b[0;36m<module>\u001b[0;34m\u001b[0m\n\u001b[1;32m      4\u001b[0m bgs \u001b[38;5;241m=\u001b[39m \u001b[38;5;28mlist\u001b[39m(nltk\u001b[38;5;241m.\u001b[39mbigrams(brown\u001b[38;5;241m.\u001b[39mwords()))\n\u001b[1;32m      6\u001b[0m \u001b[38;5;28;01mfor\u001b[39;00m i, w \u001b[38;5;129;01min\u001b[39;00m tqdm(\u001b[38;5;28menumerate\u001b[39m(W)):\n\u001b[0;32m----> 7\u001b[0m     bigram_freq \u001b[38;5;241m=\u001b[39m \u001b[43mnltk\u001b[49m\u001b[38;5;241;43m.\u001b[39;49m\u001b[43mFreqDist\u001b[49m\u001b[43m(\u001b[49m\u001b[43mbs\u001b[49m\u001b[43m \u001b[49m\u001b[38;5;28;43;01mfor\u001b[39;49;00m\u001b[43m \u001b[49m\u001b[43mbs\u001b[49m\u001b[43m \u001b[49m\u001b[38;5;129;43;01min\u001b[39;49;00m\u001b[43m \u001b[49m\u001b[43mbgs\u001b[49m\u001b[43m \u001b[49m\u001b[38;5;28;43;01mif\u001b[39;49;00m\u001b[43m \u001b[49m\u001b[43mbs\u001b[49m\u001b[43m[\u001b[49m\u001b[38;5;241;43m1\u001b[39;49m\u001b[43m]\u001b[49m\u001b[43m \u001b[49m\u001b[38;5;241;43m==\u001b[39;49m\u001b[43m \u001b[49m\u001b[43mw\u001b[49m\u001b[43m \u001b[49m\u001b[38;5;129;43;01mand\u001b[39;49;00m\u001b[43m \u001b[49m\u001b[43mbs\u001b[49m\u001b[43m[\u001b[49m\u001b[38;5;241;43m0\u001b[39;49m\u001b[43m]\u001b[49m\u001b[43m \u001b[49m\u001b[38;5;129;43;01min\u001b[39;49;00m\u001b[43m \u001b[49m\u001b[43mW\u001b[49m\u001b[43m)\u001b[49m\n\u001b[1;32m      8\u001b[0m     \u001b[38;5;28;01mfor\u001b[39;00m freq \u001b[38;5;129;01min\u001b[39;00m \u001b[38;5;28mlist\u001b[39m(bigram_freq\u001b[38;5;241m.\u001b[39mitems()):\n\u001b[1;32m      9\u001b[0m         ctx_word \u001b[38;5;241m=\u001b[39m freq[\u001b[38;5;241m0\u001b[39m][\u001b[38;5;241m0\u001b[39m]\n",
      "File \u001b[0;32m~/.local/lib/python3.8/site-packages/nltk/probability.py:102\u001b[0m, in \u001b[0;36mFreqDist.__init__\u001b[0;34m(self, samples)\u001b[0m\n\u001b[1;32m     86\u001b[0m \u001b[38;5;28;01mdef\u001b[39;00m \u001b[38;5;21m__init__\u001b[39m(\u001b[38;5;28mself\u001b[39m, samples\u001b[38;5;241m=\u001b[39m\u001b[38;5;28;01mNone\u001b[39;00m):\n\u001b[1;32m     87\u001b[0m     \u001b[38;5;124;03m\"\"\"\u001b[39;00m\n\u001b[1;32m     88\u001b[0m \u001b[38;5;124;03m    Construct a new frequency distribution.  If ``samples`` is\u001b[39;00m\n\u001b[1;32m     89\u001b[0m \u001b[38;5;124;03m    given, then the frequency distribution will be initialized\u001b[39;00m\n\u001b[0;32m   (...)\u001b[0m\n\u001b[1;32m    100\u001b[0m \u001b[38;5;124;03m    :type samples: Sequence\u001b[39;00m\n\u001b[1;32m    101\u001b[0m \u001b[38;5;124;03m    \"\"\"\u001b[39;00m\n\u001b[0;32m--> 102\u001b[0m     \u001b[43mCounter\u001b[49m\u001b[38;5;241;43m.\u001b[39;49m\u001b[38;5;21;43m__init__\u001b[39;49m\u001b[43m(\u001b[49m\u001b[38;5;28;43mself\u001b[39;49m\u001b[43m,\u001b[49m\u001b[43m \u001b[49m\u001b[43msamples\u001b[49m\u001b[43m)\u001b[49m\n\u001b[1;32m    104\u001b[0m     \u001b[38;5;66;03m# Cached number of samples in this FreqDist\u001b[39;00m\n\u001b[1;32m    105\u001b[0m     \u001b[38;5;28mself\u001b[39m\u001b[38;5;241m.\u001b[39m_N \u001b[38;5;241m=\u001b[39m \u001b[38;5;28;01mNone\u001b[39;00m\n",
      "File \u001b[0;32m~/opt/anaconda3/envs/py38/lib/python3.8/collections/__init__.py:552\u001b[0m, in \u001b[0;36mCounter.__init__\u001b[0;34m(self, iterable, **kwds)\u001b[0m\n\u001b[1;32m    541\u001b[0m \u001b[38;5;124;03m'''Create a new, empty Counter object.  And if given, count elements\u001b[39;00m\n\u001b[1;32m    542\u001b[0m \u001b[38;5;124;03mfrom an input iterable.  Or, initialize the count from another mapping\u001b[39;00m\n\u001b[1;32m    543\u001b[0m \u001b[38;5;124;03mof elements to their counts.\u001b[39;00m\n\u001b[0;32m   (...)\u001b[0m\n\u001b[1;32m    549\u001b[0m \n\u001b[1;32m    550\u001b[0m \u001b[38;5;124;03m'''\u001b[39;00m\n\u001b[1;32m    551\u001b[0m \u001b[38;5;28msuper\u001b[39m(Counter, \u001b[38;5;28mself\u001b[39m)\u001b[38;5;241m.\u001b[39m\u001b[38;5;21m__init__\u001b[39m()\n\u001b[0;32m--> 552\u001b[0m \u001b[38;5;28;43mself\u001b[39;49m\u001b[38;5;241;43m.\u001b[39;49m\u001b[43mupdate\u001b[49m\u001b[43m(\u001b[49m\u001b[43miterable\u001b[49m\u001b[43m,\u001b[49m\u001b[43m \u001b[49m\u001b[38;5;241;43m*\u001b[39;49m\u001b[38;5;241;43m*\u001b[39;49m\u001b[43mkwds\u001b[49m\u001b[43m)\u001b[49m\n",
      "File \u001b[0;32m~/.local/lib/python3.8/site-packages/nltk/probability.py:140\u001b[0m, in \u001b[0;36mFreqDist.update\u001b[0;34m(self, *args, **kwargs)\u001b[0m\n\u001b[1;32m    136\u001b[0m \u001b[38;5;124;03m\"\"\"\u001b[39;00m\n\u001b[1;32m    137\u001b[0m \u001b[38;5;124;03mOverride ``Counter.update()`` to invalidate the cached N\u001b[39;00m\n\u001b[1;32m    138\u001b[0m \u001b[38;5;124;03m\"\"\"\u001b[39;00m\n\u001b[1;32m    139\u001b[0m \u001b[38;5;28mself\u001b[39m\u001b[38;5;241m.\u001b[39m_N \u001b[38;5;241m=\u001b[39m \u001b[38;5;28;01mNone\u001b[39;00m\n\u001b[0;32m--> 140\u001b[0m \u001b[38;5;28;43msuper\u001b[39;49m\u001b[43m(\u001b[49m\u001b[43m)\u001b[49m\u001b[38;5;241;43m.\u001b[39;49m\u001b[43mupdate\u001b[49m\u001b[43m(\u001b[49m\u001b[38;5;241;43m*\u001b[39;49m\u001b[43margs\u001b[49m\u001b[43m,\u001b[49m\u001b[43m \u001b[49m\u001b[38;5;241;43m*\u001b[39;49m\u001b[38;5;241;43m*\u001b[39;49m\u001b[43mkwargs\u001b[49m\u001b[43m)\u001b[49m\n",
      "File \u001b[0;32m~/opt/anaconda3/envs/py38/lib/python3.8/collections/__init__.py:637\u001b[0m, in \u001b[0;36mCounter.update\u001b[0;34m(self, iterable, **kwds)\u001b[0m\n\u001b[1;32m    635\u001b[0m             \u001b[38;5;28msuper\u001b[39m(Counter, \u001b[38;5;28mself\u001b[39m)\u001b[38;5;241m.\u001b[39mupdate(iterable) \u001b[38;5;66;03m# fast path when counter is empty\u001b[39;00m\n\u001b[1;32m    636\u001b[0m     \u001b[38;5;28;01melse\u001b[39;00m:\n\u001b[0;32m--> 637\u001b[0m         \u001b[43m_count_elements\u001b[49m\u001b[43m(\u001b[49m\u001b[38;5;28;43mself\u001b[39;49m\u001b[43m,\u001b[49m\u001b[43m \u001b[49m\u001b[43miterable\u001b[49m\u001b[43m)\u001b[49m\n\u001b[1;32m    638\u001b[0m \u001b[38;5;28;01mif\u001b[39;00m kwds:\n\u001b[1;32m    639\u001b[0m     \u001b[38;5;28mself\u001b[39m\u001b[38;5;241m.\u001b[39mupdate(kwds)\n",
      "Input \u001b[0;32mIn [12]\u001b[0m, in \u001b[0;36m<genexpr>\u001b[0;34m(.0)\u001b[0m\n\u001b[1;32m      4\u001b[0m bgs \u001b[38;5;241m=\u001b[39m \u001b[38;5;28mlist\u001b[39m(nltk\u001b[38;5;241m.\u001b[39mbigrams(brown\u001b[38;5;241m.\u001b[39mwords()))\n\u001b[1;32m      6\u001b[0m \u001b[38;5;28;01mfor\u001b[39;00m i, w \u001b[38;5;129;01min\u001b[39;00m tqdm(\u001b[38;5;28menumerate\u001b[39m(W)):\n\u001b[0;32m----> 7\u001b[0m     bigram_freq \u001b[38;5;241m=\u001b[39m nltk\u001b[38;5;241m.\u001b[39mFreqDist(bs \u001b[38;5;28;01mfor\u001b[39;00m bs \u001b[38;5;129;01min\u001b[39;00m bgs \u001b[38;5;28;01mif\u001b[39;00m \u001b[43mbs\u001b[49m\u001b[43m[\u001b[49m\u001b[38;5;241;43m1\u001b[39;49m\u001b[43m]\u001b[49m \u001b[38;5;241m==\u001b[39m w \u001b[38;5;129;01mand\u001b[39;00m bs[\u001b[38;5;241m0\u001b[39m] \u001b[38;5;129;01min\u001b[39;00m W)\n\u001b[1;32m      8\u001b[0m     \u001b[38;5;28;01mfor\u001b[39;00m freq \u001b[38;5;129;01min\u001b[39;00m \u001b[38;5;28mlist\u001b[39m(bigram_freq\u001b[38;5;241m.\u001b[39mitems()):\n\u001b[1;32m      9\u001b[0m         ctx_word \u001b[38;5;241m=\u001b[39m freq[\u001b[38;5;241m0\u001b[39m][\u001b[38;5;241m0\u001b[39m]\n",
      "\u001b[0;31mKeyboardInterrupt\u001b[0m: "
     ]
    }
   ],
   "source": [
    "M1 = lil_matrix((len(W), len(W)))\n",
    "bgs = list(nltk.bigrams(brown.words()))\n",
    "\n",
    "for i, w in tqdm(enumerate(W)):\n",
    "    bigram_freq = nltk.FreqDist(bs for bs in bgs if bs[1] == w and bs[0] in W)\n",
    "    for freq in list(bigram_freq.items()):\n",
    "        ctx_word = freq[0][0]\n",
    "        count = freq[1]\n",
    "        if ctx_word in W:\n",
    "            ctx_idx = W.index(ctx_word)\n",
    "            M1[i, ctx_idx] = count"
   ]
  },
  {
   "cell_type": "markdown",
   "metadata": {},
   "source": [
    "## Step 4"
   ]
  },
  {
   "cell_type": "code",
   "execution_count": 8,
   "metadata": {},
   "outputs": [],
   "source": [
    "import scipy.sparse\n",
    "# scipy.sparse.save_npz('M1.npz', M1.tocsr())\n",
    "M1 = scipy.sparse.load_npz('M1.npz')"
   ]
  },
  {
   "cell_type": "code",
   "execution_count": 9,
   "metadata": {},
   "outputs": [
    {
     "name": "stderr",
     "output_type": "stream",
     "text": [
      "/var/folders/b0/k4x351w96kdf2007y_j6dzh40000gn/T/ipykernel_34057/2392178488.py:11: RuntimeWarning: divide by zero encountered in log2\n",
      "  M1Plus = np.maximum(np.log2(Pwc / Df), 0)\n"
     ]
    }
   ],
   "source": [
    "import numpy as np\n",
    "\n",
    "Pwc = M1 / M1.sum()\n",
    "Pw = M1.sum(axis=1)\n",
    "Pw = Pw / Pw.sum()\n",
    "Pc = M1.sum(axis=0)\n",
    "Pc = Pc / Pc.sum()\n",
    "D = Pw * Pc\n",
    "Df = D[:, :]\n",
    "Df[D == 0] = 1\n",
    "M1Plus = np.maximum(np.log2(Pwc / Df), 0)\n",
    "M1Plus[D == 0] = 0\n",
    "\n",
    "np.save('M1plus.np', M1Plus)"
   ]
  },
  {
   "cell_type": "markdown",
   "metadata": {},
   "source": [
    "## Step 5"
   ]
  },
  {
   "cell_type": "code",
   "execution_count": 10,
   "metadata": {},
   "outputs": [],
   "source": [
    "from sklearn.decomposition import PCA\n",
    "pca = PCA(n_components=10)\n",
    "M2_10 = pca.fit_transform(M1Plus)\n",
    "\n",
    "pca = PCA(n_components=100)\n",
    "M2_100 = pca.fit_transform(M1Plus)\n",
    "\n",
    "pca = PCA(n_components=300)\n",
    "M2_300 = pca.fit_transform(M1Plus)"
   ]
  },
  {
   "cell_type": "markdown",
   "metadata": {},
   "source": [
    "## Step 7"
   ]
  },
  {
   "cell_type": "code",
   "execution_count": 11,
   "metadata": {},
   "outputs": [],
   "source": [
    "from sklearn.metrics.pairwise import cosine_similarity\n",
    "\n",
    "def get_similarity(model, idx=True):\n",
    "    s = []\n",
    "    for pair in word_list:\n",
    "        if idx:\n",
    "            i0, i1 = W.index(pair[0]), W.index(pair[1])\n",
    "            r0, r1 = model[i0], model[i1]\n",
    "        else:\n",
    "            r0, r1 = model[pair[0]], model[pair[1]]\n",
    "        s.append(cosine_similarity(r0.reshape(1, -1), r1.reshape(1, -1)))\n",
    "    return np.array(s, dtype='float').flatten()"
   ]
  },
  {
   "cell_type": "code",
   "execution_count": 12,
   "metadata": {},
   "outputs": [],
   "source": [
    "SM1 = get_similarity(M1.toarray())\n",
    "SM1Plus = get_similarity(M1Plus)\n",
    "SM2_10 = get_similarity(M2_10)\n",
    "SM2_100 = get_similarity(M2_100)\n",
    "SM2_300 = get_similarity(M2_300)"
   ]
  },
  {
   "cell_type": "markdown",
   "metadata": {},
   "source": [
    "## Step 8"
   ]
  },
  {
   "cell_type": "code",
   "execution_count": 13,
   "metadata": {},
   "outputs": [
    {
     "name": "stdout",
     "output_type": "stream",
     "text": [
      "Pearson correlation for M1: 0.16\n",
      "Pearson correlation for M1Plus: 0.31\n",
      "Pearson correlation for M2_10: 0.17\n",
      "Pearson correlation for M2_100: 0.37\n",
      "Pearson correlation for M2_300: 0.35\n"
     ]
    }
   ],
   "source": [
    "from scipy.stats import pearsonr\n",
    "\n",
    "S = np.array([pair[2] for pair in word_list], dtype='float')\n",
    "\n",
    "pM1 = pearsonr(SM1, S)[0]\n",
    "pM1Plus = pearsonr(SM1Plus, S)[0]\n",
    "pM2_10 = pearsonr(SM2_10, S)[0]\n",
    "pM2_100 = pearsonr(SM2_100, S)[0]\n",
    "pM2_300 = pearsonr(SM2_300, S)[0]\n",
    "\n",
    "print(f'Pearson correlation for M1: {pM1:0.2f}')\n",
    "print(f'Pearson correlation for M1Plus: {pM1Plus:0.2f}')\n",
    "print(f'Pearson correlation for M2_10: {pM2_10:0.2f}')\n",
    "print(f'Pearson correlation for M2_100: {pM2_100:0.2f}')\n",
    "print(f'Pearson correlation for M2_300: {pM2_300:0.2f}')"
   ]
  },
  {
   "cell_type": "markdown",
   "metadata": {},
   "source": [
    "# Synchronic word embedding"
   ]
  },
  {
   "cell_type": "markdown",
   "metadata": {},
   "source": [
    "## Step 2"
   ]
  },
  {
   "cell_type": "code",
   "execution_count": 14,
   "metadata": {},
   "outputs": [],
   "source": [
    "from gensim.models import KeyedVectors"
   ]
  },
  {
   "cell_type": "code",
   "execution_count": 15,
   "metadata": {},
   "outputs": [],
   "source": [
    "model = KeyedVectors.load_word2vec_format('GoogleNews-vectors-negative300.bin', binary=True)"
   ]
  },
  {
   "cell_type": "code",
   "execution_count": 16,
   "metadata": {},
   "outputs": [],
   "source": [
    "embeddings = {}\n",
    "for pair in word_list:\n",
    "    embeddings[pair[0]] = model[pair[0]]\n",
    "    embeddings[pair[1]] = model[pair[1]]"
   ]
  },
  {
   "cell_type": "markdown",
   "metadata": {},
   "source": [
    "## Step 3"
   ]
  },
  {
   "cell_type": "code",
   "execution_count": 17,
   "metadata": {},
   "outputs": [],
   "source": [
    "SE = get_similarity(embeddings, idx=False)"
   ]
  },
  {
   "cell_type": "code",
   "execution_count": 18,
   "metadata": {},
   "outputs": [
    {
     "name": "stdout",
     "output_type": "stream",
     "text": [
      "Pearson correlation for word embeddings: 0.77\n"
     ]
    }
   ],
   "source": [
    "pSE = pearsonr(SE, S)[0]\n",
    "print(f'Pearson correlation for word embeddings: {pSE:0.2f}')"
   ]
  },
  {
   "cell_type": "markdown",
   "metadata": {},
   "source": [
    "## Step 4"
   ]
  },
  {
   "cell_type": "code",
   "execution_count": 19,
   "metadata": {},
   "outputs": [
    {
     "name": "stdout",
     "output_type": "stream",
     "text": [
      "Syntactic test set size: 1992\n",
      "Semantic test set size: 90\n"
     ]
    }
   ],
   "source": [
    "# parse analogy test\n",
    "test_set = []\n",
    "syntactic = ['gram1-adjective-to-adverb', 'gram2-opposite', 'gram3-comparative', 'gram4-superlative',\n",
    "             'gram5-present-participle', 'gram6-nationality-adjective', 'gram7-past-tense',\n",
    "             'gram8-plural', 'gram9-plural-verbs']\n",
    "semantic = ['capital-common-countries', 'capital-world', 'currency', 'city-in-state', 'family']\n",
    "\n",
    "syntactic_test_set = []\n",
    "semantic_test_set = []\n",
    "\n",
    "with open('word-test.v1.txt', 'r') as file:\n",
    "    curr_cat = None\n",
    "    for line in file.readlines():\n",
    "        if '//' in line:\n",
    "            continue\n",
    "        if ':' in line:\n",
    "            category = line.split(' ')[-1]\n",
    "            curr_cat = category.strip()\n",
    "            continue\n",
    "        words = line.strip().replace('\\t', '').split(' ')\n",
    "        valid = True\n",
    "        for word in words:\n",
    "            if word not in W:\n",
    "                valid = False\n",
    "                break\n",
    "        if valid:\n",
    "            if curr_cat in syntactic:\n",
    "                syntactic_test_set.append(words)\n",
    "            else:\n",
    "                semantic_test_set.append(words)\n",
    "print(f'Syntactic test set size: {len(syntactic_test_set)}')\n",
    "print(f'Semantic test set size: {len(semantic_test_set)}')"
   ]
  },
  {
   "cell_type": "code",
   "execution_count": 20,
   "metadata": {},
   "outputs": [],
   "source": [
    "def evaluate_analogy(model, test_set, idx=True):\n",
    "    correct = 0\n",
    "    for words in tqdm(test_set):\n",
    "        if idx:\n",
    "            rs = [model[W.index(word)] for word in words]\n",
    "        else:\n",
    "            rs = [model[word] for word in words]\n",
    "        guess_r = rs[2] + rs[1] - rs[0]\n",
    "        if idx:\n",
    "            dists = [(np.sqrt(((model[i] - guess_r) ** 2).sum()), W[i]) for i in range(len(W))]\n",
    "        else:\n",
    "            dists = [(np.sqrt(((model[w] - guess_r) ** 2).sum()), w) for w in W if w in model]\n",
    "        guess_word = min(dists, key=lambda x: x[0])[1]\n",
    "        if guess_word == words[3]:\n",
    "            correct += 1\n",
    "    return correct / len(test_set)"
   ]
  },
  {
   "cell_type": "code",
   "execution_count": 21,
   "metadata": {},
   "outputs": [
    {
     "data": {
      "application/vnd.jupyter.widget-view+json": {
       "model_id": "5d342794985b4509964f6e52526f3ce6",
       "version_major": 2,
       "version_minor": 0
      },
      "text/plain": [
       "  0%|          | 0/1992 [00:00<?, ?it/s]"
      ]
     },
     "metadata": {},
     "output_type": "display_data"
    },
    {
     "data": {
      "application/vnd.jupyter.widget-view+json": {
       "model_id": "799fae126d6241658a4edd8382a721b9",
       "version_major": 2,
       "version_minor": 0
      },
      "text/plain": [
       "  0%|          | 0/1992 [00:00<?, ?it/s]"
      ]
     },
     "metadata": {},
     "output_type": "display_data"
    },
    {
     "data": {
      "application/vnd.jupyter.widget-view+json": {
       "model_id": "dc64d56b25874fbcb7e62335c3859d47",
       "version_major": 2,
       "version_minor": 0
      },
      "text/plain": [
       "  0%|          | 0/90 [00:00<?, ?it/s]"
      ]
     },
     "metadata": {},
     "output_type": "display_data"
    },
    {
     "data": {
      "application/vnd.jupyter.widget-view+json": {
       "model_id": "4557ed40445049eeb8c4c1f2be402c20",
       "version_major": 2,
       "version_minor": 0
      },
      "text/plain": [
       "  0%|          | 0/90 [00:00<?, ?it/s]"
      ]
     },
     "metadata": {},
     "output_type": "display_data"
    }
   ],
   "source": [
    "w2v_acc_syn = evaluate_analogy(model, syntactic_test_set, idx=False)\n",
    "LSA_acc_syn = evaluate_analogy(M2_300, syntactic_test_set)\n",
    "w2v_acc_sem = evaluate_analogy(model, semantic_test_set, idx=False)\n",
    "LSA_acc_sem = evaluate_analogy(M2_300, semantic_test_set)"
   ]
  },
  {
   "cell_type": "code",
   "execution_count": 22,
   "metadata": {},
   "outputs": [
    {
     "name": "stdout",
     "output_type": "stream",
     "text": [
      "word2vec syntactic analogy accuracy: 10.99%\n",
      "LSA syntactic analogy accuracy: 0.00%\n",
      "word2vec semantic analogy accuracy: 58.89%\n",
      "LSA semantic analogy accuracy: 1.11%\n"
     ]
    }
   ],
   "source": [
    "print(f'word2vec syntactic analogy accuracy: {w2v_acc_syn * 100:0.2f}%')\n",
    "print(f'LSA syntactic analogy accuracy: {LSA_acc_syn * 100:0.2f}%')\n",
    "print(f'word2vec semantic analogy accuracy: {w2v_acc_sem * 100:0.2f}%')\n",
    "print(f'LSA semantic analogy accuracy: {LSA_acc_sem * 100:0.2f}%')"
   ]
  },
  {
   "cell_type": "markdown",
   "metadata": {},
   "source": [
    "# Diachronic word embedding"
   ]
  },
  {
   "cell_type": "markdown",
   "metadata": {},
   "source": [
    "## Step 1"
   ]
  },
  {
   "cell_type": "code",
   "execution_count": 109,
   "metadata": {},
   "outputs": [
    {
     "name": "stdout",
     "output_type": "stream",
     "text": [
      "dict_keys(['w', 'd', 'E'])\n"
     ]
    }
   ],
   "source": [
    "import pickle\n",
    "with open('embeddings/data.pkl', 'rb') as file:\n",
    "    data = pickle.load(file)\n",
    "print(data.keys())\n",
    "w_data, d_data, E = data['w'], data['d'], data['E']"
   ]
  },
  {
   "cell_type": "markdown",
   "metadata": {},
   "source": [
    "## Step 2"
   ]
  },
  {
   "cell_type": "markdown",
   "metadata": {},
   "source": [
    "### Method 1: k-NN Set Difference"
   ]
  },
  {
   "cell_type": "code",
   "execution_count": 12,
   "metadata": {},
   "outputs": [],
   "source": [
    "import jax\n",
    "import jax.numpy as jnp"
   ]
  },
  {
   "cell_type": "code",
   "execution_count": 18,
   "metadata": {
    "scrolled": true
   },
   "outputs": [
    {
     "name": "stderr",
     "output_type": "stream",
     "text": [
      "/var/folders/b0/k4x351w96kdf2007y_j6dzh40000gn/T/ipykernel_46294/1044306286.py:12: RuntimeWarning: invalid value encountered in true_divide\n",
      "  wl.append(E[w][d] / np.linalg.norm(E[w][d]))\n"
     ]
    },
    {
     "data": {
      "application/vnd.jupyter.widget-view+json": {
       "model_id": "9042f673a630471484533568bbf116ee",
       "version_major": 2,
       "version_minor": 0
      },
      "text/plain": [
       "  0%|          | 0/2000 [00:00<?, ?it/s]"
      ]
     },
     "metadata": {},
     "output_type": "display_data"
    }
   ],
   "source": [
    "from tqdm.notebook import tqdm\n",
    "import numpy as np\n",
    "\n",
    "def get_nns():\n",
    "    w, d = 2000, 10\n",
    "    nns = []\n",
    "    \n",
    "    E_norm = []\n",
    "    for w in range(len(E)):\n",
    "        wl = []\n",
    "        for d in range(len(E[w])):\n",
    "            wl.append(E[w][d] / np.linalg.norm(E[w][d]))\n",
    "        E_norm.append(wl)\n",
    "    \n",
    "    for w in tqdm(range(len(E))):\n",
    "        nn_w = []\n",
    "        for d in range(len(E[w])):\n",
    "            word_vec = E_norm[w][d]\n",
    "            w_dists = []\n",
    "            for wp in range(len(E)):\n",
    "                dist = 1 - E_norm[wp][d].T.dot(word_vec)\n",
    "                w_dists.append((wp, dist))\n",
    "            w_dists = sorted(w_dists, key=lambda x: x[1])\n",
    "            nn = [x[0] for x in w_dists]\n",
    "            nn.remove(w) # itself is not a nearest neighbor\n",
    "            nn_w.append(nn)\n",
    "        nns.append(nn_w)\n",
    "    return nns\n",
    "\n",
    "nns = get_nns()"
   ]
  },
  {
   "cell_type": "code",
   "execution_count": 54,
   "metadata": {},
   "outputs": [],
   "source": [
    "E_np = np.array(E)\n",
    "E_nns = np.array(nns)"
   ]
  },
  {
   "cell_type": "code",
   "execution_count": 55,
   "metadata": {},
   "outputs": [
    {
     "name": "stdout",
     "output_type": "stream",
     "text": [
      "Most changed words according to set difference: ['commissioner', 'radio', 'housing', 'transport', 'measurement', 'skills', 'component', 'objectives', 'assessment', 'mcgraw', 'ml', 'disposition', 'perspective', 'host', 'adjustment', 'absorption', 'challenge', 'framework', 'imports', 'intervention']\n",
      "Least changed words according to set difference: ['march', 'june', 'july', 'april', 'january', 'december', 'october', 'august', 'september', 'november', 'february', 'time', 'years', 'father', 'north', 'increase', 'mother', 'woman', 'months', 'east']\n"
     ]
    }
   ],
   "source": [
    "k = 10\n",
    "set_diffs = []\n",
    "overall_set_diffs = []\n",
    "for w in range(len(E)):\n",
    "    w_diffs = []\n",
    "    for d in range(len(E[w])):\n",
    "        cur_set = set(nns[w][d][:k])\n",
    "        if d == 0:\n",
    "            w_diffs.append(None)\n",
    "        else:\n",
    "            w_diffs.append(len(cur_set.difference(prev_set)))\n",
    "        prev_set = cur_set\n",
    "    set_diffs.append(w_diffs)\n",
    "    \n",
    "    overall_set_diffs.append(len(set(nns[w][0][:k]).difference(set(nns[w][-1][:k]))))\n",
    "    \n",
    "sorted_set_diffs = [x[0] for x in sorted(enumerate(overall_set_diffs), key=lambda x: x[1])]\n",
    "most_set_diffs = [w_data[x] for x in sorted_set_diffs[-20:]]\n",
    "least_set_diffs = [w_data[x] for x in sorted_set_diffs[:20]]\n",
    "\n",
    "print(f'Most changed words according to set difference: {most_set_diffs}')\n",
    "print(f'Least changed words according to set difference: {least_set_diffs}')"
   ]
  },
  {
   "cell_type": "markdown",
   "metadata": {},
   "source": [
    "### Method 2: Linear Projection Between Embeddings"
   ]
  },
  {
   "cell_type": "code",
   "execution_count": 60,
   "metadata": {},
   "outputs": [
    {
     "name": "stdout",
     "output_type": "stream",
     "text": [
      "0.8430913\n",
      "0.042350337\n",
      "0.014300892\n",
      "0.007239037\n",
      "0.0042550648\n",
      "0.003050912\n",
      "0.0022832882\n",
      "0.0018479003\n",
      "0.0015794423\n",
      "0.0015226732\n"
     ]
    }
   ],
   "source": [
    "batch_size = 100\n",
    "learning_rate = 1000\n",
    "\n",
    "def get_linear_alignment(d_from, d_to, k):\n",
    "    idxs = E_nns[:, d_from, :k].reshape(-1)\n",
    "    \n",
    "    from_r = jnp.array(E_np[idxs][:, d_from, :].reshape(2000, k, -1))\n",
    "    to_r = jnp.array(E_np[idxs][:, d_to, :].reshape(2000, k, -1))\n",
    "    \n",
    "    W = np.random.randn(300, 300)\n",
    "    \n",
    "    def loss(W, from_r, to_r):\n",
    "        fr = from_r.reshape(-1, 300) @ W\n",
    "        tr = to_r.reshape(-1, 300)\n",
    "        return ((fr - tr) ** 2).mean()\n",
    "    \n",
    "    loss_grad = jax.jit(jax.vmap(jax.grad(loss), in_axes=(None, 0, 0), out_axes=0))\n",
    "    \n",
    "    for i in range(1000):\n",
    "        idx = np.random.choice(from_r.shape[0], size=batch_size)\n",
    "        x = from_r[idx]\n",
    "        y = to_r[idx]\n",
    "        grad = loss_grad(W, x, y)\n",
    "        \n",
    "        W = W - learning_rate * np.mean(grad, axis=0)\n",
    "        \n",
    "        if i % 100 == 0:\n",
    "            print(loss(W, x, y))\n",
    "            \n",
    "    return lambda x: x.reshape(-1, 300) @ W\n",
    "t_0_9 = get_linear_alignment(0, 9, 5)"
   ]
  },
  {
   "cell_type": "code",
   "execution_count": 167,
   "metadata": {},
   "outputs": [
    {
     "name": "stdout",
     "output_type": "stream",
     "text": [
      "Most changed words according to linear difference: ['jones', 'patterns', 'berkeley', 'framework', 'film', 'j', 'evaluation', 'therapy', 'perspective', 'media', 'radio', 'sector', 'goals', 'programs', 'techniques', 'skills', 'mcgraw', 'ml', 'computer', 'objectives']\n",
      "Least changed words according to linear difference: ['happiness', 'plaintiff', 'payment', 'density', 'john', 'joy', 'god', 'particles', 'funds', 'assets', 'university', 'jersey', 'metal', 'officers', 'manufacture', 'court', 'door', 'april', 'opinions', 'troops']\n"
     ]
    }
   ],
   "source": [
    "from sklearn.metrics.pairwise import cosine_similarity\n",
    "\n",
    "linear_diffs = []\n",
    "for w in range(len(E)):\n",
    "    og_embed = t_0_9(E[w][0])\n",
    "    now_embed = E[w][9]\n",
    "    diff = 1 - cosine_similarity(now_embed.reshape(1, -1), og_embed.reshape(1, -1))\n",
    "    linear_diffs.append(diff)\n",
    "    \n",
    "sorted_linear_diffs = [x[0] for x in sorted(enumerate(linear_diffs), key=lambda x: x[1])]\n",
    "most_linear_diffs = [w_data[x] for x in sorted_linear_diffs[-20:]]\n",
    "least_linear_diffs = [w_data[x] for x in sorted_linear_diffs[:20]]\n",
    "\n",
    "print(f'Most changed words according to linear difference: {most_linear_diffs}')\n",
    "print(f'Least changed words according to linear difference: {least_linear_diffs}')"
   ]
  },
  {
   "cell_type": "markdown",
   "metadata": {},
   "source": [
    "### Method 3: Non-Linear Projection Between Embeddings"
   ]
  },
  {
   "cell_type": "code",
   "execution_count": 105,
   "metadata": {},
   "outputs": [
    {
     "name": "stdout",
     "output_type": "stream",
     "text": [
      "Starting learning...\n",
      "79.46014\n",
      "0.064915486\n",
      "0.015159759\n",
      "0.016637193\n",
      "0.0075505045\n",
      "0.0058683795\n",
      "0.004713276\n",
      "0.004751912\n",
      "0.006121097\n",
      "0.0051645515\n"
     ]
    }
   ],
   "source": [
    "def get_nonlinear_alignment(d_from, d_to, k):\n",
    "    batch_size = 50\n",
    "    learning_rate = 0.3\n",
    "    \n",
    "    idxs = E_nns[:, d_from, :k].reshape(-1)\n",
    "    \n",
    "    from_r = jnp.array(E_np[idxs][:, d_from, :].reshape(2000, k, -1))\n",
    "    to_r = jnp.array(E_np[idxs][:, d_to, :].reshape(2000, k, -1))\n",
    "    \n",
    "    params = [\n",
    "        np.random.randn(256, 300),\n",
    "        np.random.randn(256, 1),\n",
    "        np.random.randn(300, 256)\n",
    "    ]\n",
    "    \n",
    "    def loss(params, from_r, to_r):\n",
    "        fr = net(params, from_r.reshape(-1, 300).T)\n",
    "        tr = to_r.reshape(-1, 300).T\n",
    "        return ((fr - tr) ** 2).mean() + 0 * sum([jnp.linalg.norm(param) for param in params])\n",
    "    \n",
    "    def net(params, x):\n",
    "        w1, b1, w2 = params\n",
    "        hidden = w1 @ x + b1\n",
    "        hidden = hidden * (hidden > 0)\n",
    "#         hidden = jnp.tanh(w1 @ x + b1)\n",
    "        return w2 @ hidden\n",
    "    \n",
    "    loss_grad = jax.jit(jax.vmap(jax.grad(loss), in_axes=(None, 0, 0), out_axes=0))\n",
    "\n",
    "    print('Starting learning...')\n",
    "    \n",
    "    for i in range(5000):\n",
    "        idx = np.random.choice(from_r.shape[0], size=batch_size)\n",
    "        x = from_r[idx]\n",
    "        y = to_r[idx]\n",
    "        grads = loss_grad(params, x, y)\n",
    "        \n",
    "        params = [param - learning_rate * np.mean(grad, axis=0) for param, grad in zip(params, grads)]\n",
    "                \n",
    "        if i % 500 == 0:\n",
    "            print(loss(params, x, y))\n",
    "            \n",
    "    return lambda x: net(params, x.reshape(-1, 300).T)\n",
    "nonlinear_0_9 = get_nonlinear_alignment(0, 9, 5)"
   ]
  },
  {
   "cell_type": "code",
   "execution_count": 106,
   "metadata": {},
   "outputs": [
    {
     "name": "stdout",
     "output_type": "stream",
     "text": [
      "Most changed words according to non-linear difference: ['cents', 'spot', 'difference', 'remainder', 'roads', 'host', 'nitrogen', 'mayor', 'guide', 'sunday', 'vision', 'c', 'technology', 'preservation', 'matter', 'sequence', 'trustees', 'representation', 'francisco', 'dozen']\n",
      "Least changed words according to non-linear difference: ['associations', 'dog', 'mixture', 'son', 'tons', 'discovery', 'proportion', 'privileges', 'charges', 'expenditure', 'articles', 'ears', 'machine', 'contents', 'defeat', 'buildings', 'favor', 'lives', 'quarters', 'grace']\n"
     ]
    }
   ],
   "source": [
    "from sklearn.metrics.pairwise import cosine_similarity\n",
    "\n",
    "nonlinear_diffs = []\n",
    "for w in range(len(E)):\n",
    "    og_embed = nonlinear_0_9(E[w][0])\n",
    "    now_embed = E[w][9]\n",
    "    diff = 1 - cosine_similarity(now_embed.reshape(1, -1), og_embed.reshape(1, -1))\n",
    "    nonlinear_diffs.append(diff)\n",
    "    \n",
    "sorted_nonlinear_diffs = [x[0] for x in sorted(enumerate(nonlinear_diffs), key=lambda x: x[1])]\n",
    "most_nonlinear_diffs = [w_data[x] for x in sorted_nonlinear_diffs[-20:]]\n",
    "least_nonlinear_diffs = [w_data[x] for x in sorted_nonlinear_diffs[:20]]\n",
    "\n",
    "print(f'Most changed words according to non-linear difference: {most_nonlinear_diffs}')\n",
    "print(f'Least changed words according to non-linear difference: {least_nonlinear_diffs}')"
   ]
  },
  {
   "cell_type": "markdown",
   "metadata": {},
   "source": [
    "### Correlations"
   ]
  },
  {
   "cell_type": "code",
   "execution_count": 107,
   "metadata": {},
   "outputs": [
    {
     "name": "stdout",
     "output_type": "stream",
     "text": [
      "[[1.         0.43554636 0.02391419]\n",
      " [0.43554636 1.         0.04075642]\n",
      " [0.02391419 0.04075642 1.        ]]\n"
     ]
    }
   ],
   "source": [
    "from scipy.stats import pearsonr\n",
    "\n",
    "inter_correlation_table = np.zeros((3, 3), dtype='float')\n",
    "methods_diffs = [np.array(overall_set_diffs, dtype='float').reshape(-1),\n",
    "                 np.array(linear_diffs, dtype='float').reshape(-1),\n",
    "                 np.array(nonlinear_diffs, dtype='float').reshape(-1)]\n",
    "for i, m1 in enumerate(methods_diffs):\n",
    "    for j, m2 in enumerate(methods_diffs):\n",
    "        inter_correlation_table[i, j] = pearsonr(m1, m2)[0]\n",
    "        \n",
    "print(inter_correlation_table)"
   ]
  },
  {
   "cell_type": "markdown",
   "metadata": {},
   "source": [
    "## Step 3"
   ]
  },
  {
   "cell_type": "code",
   "execution_count": 252,
   "metadata": {},
   "outputs": [
    {
     "name": "stdout",
     "output_type": "stream",
     "text": [
      "{'killer', 'bloody', 'chase', 'passenger', 'gay', 'prize', 'nice', 'tag', 'address', 'ass', 'mail', 'check', 'bus', 'urge', 'concrete', 'random', 'sip', 'bomb', 'mouse', 'guy', 'sob', 'toilet', 'cell', 'gorgeous', 'frustration', 'king', 'breasts', 'checked', 'repeat', 'cock', 'tape', 'supposed', 'sleep', 'phone', 'switched', 'parent', 'damn', 'press', 'disbelief', 'papa', 'shower', 'motor', 'plan', 'headed', 'cancer', 'actually', 'intelligence', 'steering', 'card', 'guess'}\n",
      "50\n"
     ]
    }
   ],
   "source": [
    "import csv\n",
    "changed_words = set()\n",
    "with open('data.csv/20WordsEvaluator1.csv', newline='') as csvfile:\n",
    "    reader = csv.reader(csvfile, delimiter=',', quotechar='|')\n",
    "    for row in reader:\n",
    "        if row[2] == '1':\n",
    "            changed_words.add(row[0])\n",
    "with open('data.csv/20WordsEvaluator2.csv', newline='') as csvfile:\n",
    "    reader = csv.reader(csvfile, delimiter=',', quotechar='|')\n",
    "    for row in reader:\n",
    "        if row[2] == '1':\n",
    "            changed_words.add(row[0])\n",
    "with open('data.csv/20WordsEvaluator3.csv', newline='') as csvfile:\n",
    "    reader = csv.reader(csvfile, delimiter=',', quotechar='|')\n",
    "    for row in reader:\n",
    "        if row[2] == '1':\n",
    "            changed_words.add(row[0])\n",
    "with open('data.csv/ChangedWords.csv', newline='') as csvfile:\n",
    "    reader = csv.reader(csvfile, delimiter=',', quotechar='|')\n",
    "    for row in reader:\n",
    "        if row[0] != 'Source':\n",
    "            changed_words.add(row[-1])\n",
    "            \n",
    "print(changed_words)\n",
    "print(len(changed_words))"
   ]
  },
  {
   "cell_type": "code",
   "execution_count": 254,
   "metadata": {},
   "outputs": [
    {
     "name": "stdout",
     "output_type": "stream",
     "text": [
      "Set method accuracy: 4.00%\n",
      "Linear method accuracy: 14.00%\n",
      "Non-Linear method accuracy: 2.00%\n"
     ]
    }
   ],
   "source": [
    "most_nonlinear_diffs = [w_data[x] for x in sorted_nonlinear_diffs[-500:]]\n",
    "accurate_words_nonlinear = len(set(most_nonlinear_diffs).intersection(changed_words)) / len(changed_words)\n",
    "most_linear_diffs = [w_data[x] for x in sorted_linear_diffs[-500:]]\n",
    "accurate_words_linear = len(set(most_linear_diffs).intersection(changed_words)) / len(changed_words)\n",
    "most_set_diffs = [w_data[x] for x in sorted_set_diffs[-500:]]\n",
    "accurate_words_set = len(set(most_set_diffs).intersection(changed_words)) / len(changed_words)\n",
    "\n",
    "print(f'Set method accuracy: {accurate_words_set * 100:0.2f}%')\n",
    "print(f'Linear method accuracy: {accurate_words_linear * 100:0.2f}%')\n",
    "print(f'Non-Linear method accuracy: {accurate_words_nonlinear * 100:0.2f}%')"
   ]
  },
  {
   "cell_type": "markdown",
   "metadata": {},
   "source": [
    "## Step 4"
   ]
  },
  {
   "cell_type": "code",
   "execution_count": 165,
   "metadata": {
    "scrolled": true
   },
   "outputs": [
    {
     "name": "stdout",
     "output_type": "stream",
     "text": [
      "0.835669\n",
      "0.043057866\n",
      "0.01485128\n",
      "0.006860097\n",
      "0.004250046\n",
      "0.002866014\n",
      "0.002153203\n",
      "0.0018217659\n",
      "0.0015927523\n",
      "0.0014362903\n",
      "0.8349303\n",
      "0.042131353\n",
      "0.014539286\n",
      "0.0072084162\n",
      "0.00437981\n",
      "0.0029221885\n",
      "0.0022032203\n",
      "0.0017838338\n",
      "0.0016108836\n",
      "0.0013583984\n",
      "0.8334937\n",
      "0.04290511\n",
      "0.015034596\n",
      "0.00726867\n",
      "0.0046399725\n",
      "0.0028980728\n",
      "0.002201997\n",
      "0.0017579643\n",
      "0.0015592147\n",
      "0.001379823\n",
      "0.82984793\n",
      "0.043604556\n",
      "0.014073392\n",
      "0.007085586\n",
      "0.004252657\n",
      "0.0029357327\n",
      "0.002015209\n",
      "0.0017607816\n",
      "0.001440743\n",
      "0.0012737002\n",
      "0.82835585\n",
      "0.042047475\n",
      "0.013104712\n",
      "0.006315336\n",
      "0.0037249357\n",
      "0.0025937164\n",
      "0.0019446043\n",
      "0.0015739321\n",
      "0.0013490735\n",
      "0.0012492061\n",
      "0.8394355\n",
      "0.04174356\n",
      "0.013362069\n",
      "0.0061926562\n",
      "0.003544242\n",
      "0.0024273393\n",
      "0.0018367979\n",
      "0.0015114009\n",
      "0.0013357415\n",
      "0.0012416287\n",
      "0.8317495\n",
      "0.041528217\n",
      "0.013087565\n",
      "0.0062037664\n",
      "0.0035474824\n",
      "0.0023399217\n",
      "0.0018041256\n",
      "0.0014586642\n",
      "0.0012946494\n",
      "0.0011842522\n",
      "0.8424791\n",
      "0.041771203\n",
      "0.013004456\n",
      "0.0061262134\n",
      "0.0034697615\n",
      "0.00232162\n",
      "0.0016626044\n",
      "0.0013966467\n",
      "0.0012212668\n",
      "0.0010895497\n",
      "0.8391374\n",
      "0.041338652\n",
      "0.012674132\n",
      "0.0057876837\n",
      "0.003152258\n",
      "0.0021158697\n",
      "0.0015974122\n",
      "0.0012550899\n",
      "0.0010934634\n",
      "0.0009831134\n"
     ]
    }
   ],
   "source": [
    "linear_alignments = [get_linear_alignment(i, 9, 5) for i in range(9)]"
   ]
  },
  {
   "cell_type": "code",
   "execution_count": 210,
   "metadata": {},
   "outputs": [],
   "source": [
    "linear_diffs_T = []\n",
    "for t in range(9):\n",
    "    diffs = []\n",
    "    for w in range(len(E)):\n",
    "        og_embed = linear_alignments[t](E[w][t])\n",
    "        now_embed = E[w][9]\n",
    "        diff = 1 - cosine_similarity(now_embed.reshape(1, -1), og_embed.reshape(1, -1))\n",
    "        diffs.append(diff)\n",
    "    linear_diffs_T.append(diffs)\n",
    "    \n",
    "linear_diffs_T = np.array(linear_diffs_T).reshape(9, 2000)"
   ]
  },
  {
   "cell_type": "code",
   "execution_count": 211,
   "metadata": {},
   "outputs": [],
   "source": [
    "means = linear_diffs_T.mean(axis=1, keepdims=True)\n",
    "variances = np.var(linear_diffs_T, axis=1, keepdims=True)\n",
    "norm_linear_diff_T = (linear_diffs_T - means) / np.sqrt(variances)"
   ]
  },
  {
   "cell_type": "code",
   "execution_count": 219,
   "metadata": {},
   "outputs": [],
   "source": [
    "def get_ks(Z):\n",
    "    ks = []\n",
    "    for t in range(1, 8):\n",
    "        beginning = Z[:t]\n",
    "        end = Z[t:]\n",
    "        ks.append(beginning.mean(axis=0) - end.mean(axis=0))\n",
    "    ks = np.array(ks)\n",
    "    return ks"
   ]
  },
  {
   "cell_type": "code",
   "execution_count": 223,
   "metadata": {},
   "outputs": [
    {
     "data": {
      "application/vnd.jupyter.widget-view+json": {
       "model_id": "5b29b16b28b841feb2f1b806e3d6d0af",
       "version_major": 2,
       "version_minor": 0
      },
      "text/plain": [
       "  0%|          | 0/2000 [00:00<?, ?it/s]"
      ]
     },
     "metadata": {},
     "output_type": "display_data"
    }
   ],
   "source": [
    "ks_og = get_ks(norm_linear_diff_T)\n",
    "BS = []\n",
    "for b in range(3000):\n",
    "    pi_z = np.random.permutation(norm_linear_diff_T)\n",
    "    ks = get_ks(pi_z)\n",
    "    BS.append(ks)\n",
    "p_values = np.zeros((ks.shape[1], ks.shape[0]))\n",
    "for w in tqdm(range(ks.shape[1])):\n",
    "    for t in range(ks_og.shape[0]):\n",
    "        n_greater = 0\n",
    "        for b in range(3000):\n",
    "            if BS[b][t, w] > ks_og[t, w]:\n",
    "                n_greater += 1\n",
    "        p_values[w, t] = n_greater / 3000"
   ]
  },
  {
   "cell_type": "code",
   "execution_count": 248,
   "metadata": {},
   "outputs": [],
   "source": [
    "most_changed_words = ['jones', 'patterns', 'berkeley']\n",
    "idxs = [w_data.index(w) for w in most_changed_words]\n",
    "diff_TS = []\n",
    "for w in range(len(most_changed_words)):\n",
    "    diffs = []\n",
    "    for t in range(9):\n",
    "        diffs.append(linear_diffs_T[t, idxs[w]].item())\n",
    "    diff_TS.append(diffs)"
   ]
  },
  {
   "cell_type": "code",
   "execution_count": 249,
   "metadata": {},
   "outputs": [],
   "source": [
    "years = [1900 + i * 10 for i in range(1, 10)]"
   ]
  },
  {
   "cell_type": "code",
   "execution_count": 255,
   "metadata": {},
   "outputs": [
    {
     "data": {
      "text/plain": [
       "<matplotlib.patches.Polygon at 0x7fa4656988e0>"
      ]
     },
     "execution_count": 255,
     "metadata": {},
     "output_type": "execute_result"
    },
    {
     "data": {
      "image/png": "[encoded data removed]",
      "text/plain": [
       "<Figure size 432x288 with 1 Axes>"
      ]
     },
     "metadata": {
      "needs_background": "light"
     },
     "output_type": "display_data"
    }
   ],
   "source": [
    "%matplotlib inline\n",
    "import matplotlib.pyplot as plt\n",
    "\n",
    "idx = 0\n",
    "plt.plot(years, diff_TS[idx])\n",
    "plt.title(most_changed_words[idx])\n",
    "\n",
    "change_pt = np.argmin(p_values[idxs[idx]]) + 1\n",
    "region = 1908 + change_pt * 10, 1913 + change_pt * 10\n",
    "plt.axvspan(region[0], region[1], color='grey', alpha=0.1)"
   ]
  },
  {
   "cell_type": "code",
   "execution_count": 256,
   "metadata": {},
   "outputs": [
    {
     "data": {
      "text/plain": [
       "<matplotlib.patches.Polygon at 0x7fa465839fa0>"
      ]
     },
     "execution_count": 256,
     "metadata": {},
     "output_type": "execute_result"
    },
    {
     "data": {
      "image/png": "[encoded data removed]",
      "text/plain": [
       "<Figure size 432x288 with 1 Axes>"
      ]
     },
     "metadata": {
      "needs_background": "light"
     },
     "output_type": "display_data"
    }
   ],
   "source": [
    "%matplotlib inline\n",
    "import matplotlib.pyplot as plt\n",
    "\n",
    "idx = 1\n",
    "plt.plot(years, diff_TS[idx])\n",
    "plt.title(most_changed_words[idx])\n",
    "\n",
    "change_pt = np.argmin(p_values[idxs[idx]]) + 1\n",
    "region = 1908 + change_pt * 10, 1913 + change_pt * 10\n",
    "plt.axvspan(region[0], region[1], color='grey', alpha=0.1)"
   ]
  },
  {
   "cell_type": "code",
   "execution_count": 257,
   "metadata": {},
   "outputs": [
    {
     "data": {
      "text/plain": [
       "<matplotlib.patches.Polygon at 0x7fa46594f070>"
      ]
     },
     "execution_count": 257,
     "metadata": {},
     "output_type": "execute_result"
    },
    {
     "data": {
      "image/png": "[encoded data removed]",
      "text/plain": [
       "<Figure size 432x288 with 1 Axes>"
      ]
     },
     "metadata": {
      "needs_background": "light"
     },
     "output_type": "display_data"
    }
   ],
   "source": [
    "%matplotlib inline\n",
    "import matplotlib.pyplot as plt\n",
    "\n",
    "idx = 2\n",
    "plt.plot(years, diff_TS[idx])\n",
    "plt.title(most_changed_words[idx])\n",
    "\n",
    "change_pt = np.argmin(p_values[idxs[idx]]) + 1\n",
    "region = 1908 + change_pt * 10, 1913 + change_pt * 10\n",
    "plt.axvspan(region[0], region[1], color='grey', alpha=0.1)"
   ]
  },
  {
   "cell_type": "code",
   "execution_count": null,
   "metadata": {},
   "outputs": [],
   "source": []
  }
 ],
 "metadata": {
  "kernelspec": {
   "display_name": "py38",
   "language": "python",
   "name": "py38"
  },
  "language_info": {
   "codemirror_mode": {
    "name": "ipython",
    "version": 3
   },
   "file_extension": ".py",
   "mimetype": "text/x-python",
   "name": "python",
   "nbconvert_exporter": "python",
   "pygments_lexer": "ipython3",
   "version": "3.8.8"
  }
 },
 "nbformat": 4,
 "nbformat_minor": 2
}
